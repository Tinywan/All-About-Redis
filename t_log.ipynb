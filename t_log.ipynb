{
  "nbformat": 4,
  "nbformat_minor": 0,
  "metadata": {
    "colab": {
      "name": "Untitled0.ipynb",
      "version": "0.3.2",
      "provenance": [],
      "collapsed_sections": [],
      "include_colab_link": true
    },
    "kernelspec": {
      "name": "python3",
      "display_name": "Python 3"
    }
  },
  "cells": [
    {
      "cell_type": "markdown",
      "metadata": {
        "id": "view-in-github",
        "colab_type": "text"
      },
      "source": [
        "<a href=\"https://colab.research.google.com/github/Tinywan/All-About-Redis/blob/master/t_log.ipynb\" target=\"_parent\"><img src=\"https://colab.research.google.com/assets/colab-badge.svg\" alt=\"Open In Colab\"/></a>"
      ]
    },
    {
      "cell_type": "code",
      "metadata": {
        "id": "wjquizS-qr-2",
        "colab_type": "code",
        "outputId": "7df23342-b99d-4d8c-bb39-88798bd97117",
        "colab": {
          "base_uri": "https://localhost:8080/",
          "height": 35
        }
      },
      "source": [
        "#!/bin/usr/python3\n",
        "\n",
        "import redis\n",
        "\n",
        "res = redis.Redis(host='47.99.94.49', port=6379, db=0)\n",
        "res.set(\"name\",\"Tinywan\")\n",
        "print(res.get('name'))\n"
      ],
      "execution_count": 0,
      "outputs": [
        {
          "output_type": "stream",
          "text": [
            "b'Tinywan'\n"
          ],
          "name": "stdout"
        }
      ]
    },
    {
      "cell_type": "code",
      "metadata": {
        "id": "6naB-1rds-ip",
        "colab_type": "code",
        "colab": {
          "base_uri": "https://localhost:8080/",
          "height": 89
        },
        "outputId": "4f178ef3-add2-4e38-b19d-5a7dc86a1c3f"
      },
      "source": [
        "pip install t_log"
      ],
      "execution_count": 1,
      "outputs": [
        {
          "output_type": "stream",
          "text": [
            "Collecting t_log\n",
            "  Downloading https://files.pythonhosted.org/packages/f1/fe/8012ead6de6c657ac75a6e354cafca45e57f76e852f3e2d98022ae9c0709/t_log-0.52-py3-none-any.whl\n",
            "Installing collected packages: t-log\n",
            "Successfully installed t-log-0.52\n"
          ],
          "name": "stdout"
        }
      ]
    },
    {
      "cell_type": "code",
      "metadata": {
        "id": "3X2BAmWouH5n",
        "colab_type": "code",
        "colab": {
          "base_uri": "https://localhost:8080/",
          "height": 389
        },
        "outputId": "93b776d5-aa9a-481d-f975-1b7a0f0b0f47"
      },
      "source": [
        "#!/bin/usr/python3\n",
        "\n",
        "import redis\n",
        "from t_log import logger\n",
        "\n",
        "res = redis.Redis(host='47.99.94.49', port=6379, db=0)\n",
        "res.set(\"name\",\"Tinywan\")\n",
        "print(res.get('name'))\n",
        "\n",
        "\n",
        "log = logger.logger()\n",
        "\n",
        "log.critical(\"这是一个 critical 级别的问题！\")\n",
        "log.error(\"这是一个 error 级别的问题！\")\n",
        "log.warning(\"这是一个 warning 级别的问题！\")\n",
        "log.info(\"这是一个 info 级别的问题！\")"
      ],
      "execution_count": 2,
      "outputs": [
        {
          "output_type": "error",
          "ename": "ModuleNotFoundError",
          "evalue": "ignored",
          "traceback": [
            "\u001b[0;31m---------------------------------------------------------------------------\u001b[0m",
            "\u001b[0;31mModuleNotFoundError\u001b[0m                       Traceback (most recent call last)",
            "\u001b[0;32m<ipython-input-2-a578f4806d9b>\u001b[0m in \u001b[0;36m<module>\u001b[0;34m()\u001b[0m\n\u001b[1;32m      1\u001b[0m \u001b[0;34m\u001b[0m\u001b[0m\n\u001b[0;32m----> 2\u001b[0;31m \u001b[0;32mimport\u001b[0m \u001b[0mredis\u001b[0m\u001b[0;34m\u001b[0m\u001b[0;34m\u001b[0m\u001b[0m\n\u001b[0m\u001b[1;32m      3\u001b[0m \u001b[0;32mfrom\u001b[0m \u001b[0mt_log\u001b[0m \u001b[0;32mimport\u001b[0m \u001b[0mlogger\u001b[0m\u001b[0;34m\u001b[0m\u001b[0;34m\u001b[0m\u001b[0m\n\u001b[1;32m      4\u001b[0m \u001b[0;34m\u001b[0m\u001b[0m\n\u001b[1;32m      5\u001b[0m \u001b[0mres\u001b[0m \u001b[0;34m=\u001b[0m \u001b[0mredis\u001b[0m\u001b[0;34m.\u001b[0m\u001b[0mRedis\u001b[0m\u001b[0;34m(\u001b[0m\u001b[0mhost\u001b[0m\u001b[0;34m=\u001b[0m\u001b[0;34m'47.99.94.49'\u001b[0m\u001b[0;34m,\u001b[0m \u001b[0mport\u001b[0m\u001b[0;34m=\u001b[0m\u001b[0;36m6379\u001b[0m\u001b[0;34m,\u001b[0m \u001b[0mdb\u001b[0m\u001b[0;34m=\u001b[0m\u001b[0;36m0\u001b[0m\u001b[0;34m)\u001b[0m\u001b[0;34m\u001b[0m\u001b[0;34m\u001b[0m\u001b[0m\n",
            "\u001b[0;31mModuleNotFoundError\u001b[0m: No module named 'redis'",
            "",
            "\u001b[0;31m---------------------------------------------------------------------------\u001b[0;32m\nNOTE: If your import is failing due to a missing package, you can\nmanually install dependencies using either !pip or !apt.\n\nTo view examples of installing some common dependencies, click the\n\"Open Examples\" button below.\n\u001b[0;31m---------------------------------------------------------------------------\u001b[0m\n"
          ]
        }
      ]
    },
    {
      "cell_type": "code",
      "metadata": {
        "id": "RcV3fUkXuLRl",
        "colab_type": "code",
        "colab": {
          "base_uri": "https://localhost:8080/",
          "height": 107
        },
        "outputId": "111ce6b6-dd0d-42d1-d423-4bf610c29593"
      },
      "source": [
        "pip install redis"
      ],
      "execution_count": 3,
      "outputs": [
        {
          "output_type": "stream",
          "text": [
            "Collecting redis\n",
            "\u001b[?25l  Downloading https://files.pythonhosted.org/packages/ac/a7/cff10cc5f1180834a3ed564d148fb4329c989cbb1f2e196fc9a10fa07072/redis-3.2.1-py2.py3-none-any.whl (65kB)\n",
            "\r\u001b[K     |█████                           | 10kB 15.9MB/s eta 0:00:01\r\u001b[K     |██████████                      | 20kB 3.3MB/s eta 0:00:01\r\u001b[K     |███████████████                 | 30kB 4.7MB/s eta 0:00:01\r\u001b[K     |████████████████████            | 40kB 3.0MB/s eta 0:00:01\r\u001b[K     |█████████████████████████       | 51kB 3.7MB/s eta 0:00:01\r\u001b[K     |██████████████████████████████  | 61kB 4.4MB/s eta 0:00:01\r\u001b[K     |████████████████████████████████| 71kB 3.2MB/s \n",
            "\u001b[?25hInstalling collected packages: redis\n",
            "Successfully installed redis-3.2.1\n"
          ],
          "name": "stdout"
        }
      ]
    },
    {
      "cell_type": "code",
      "metadata": {
        "id": "UMVZwlrguRhU",
        "colab_type": "code",
        "colab": {
          "base_uri": "https://localhost:8080/",
          "height": 35
        },
        "outputId": "51e19f5d-6af0-4157-b95f-3a96dd8ebabd"
      },
      "source": [
        "pip install t_log"
      ],
      "execution_count": 4,
      "outputs": [
        {
          "output_type": "stream",
          "text": [
            "Requirement already satisfied: t_log in /usr/local/lib/python3.6/dist-packages (0.52)\n"
          ],
          "name": "stdout"
        }
      ]
    },
    {
      "cell_type": "code",
      "metadata": {
        "id": "qfQyatiLuVBl",
        "colab_type": "code",
        "colab": {
          "base_uri": "https://localhost:8080/",
          "height": 107
        },
        "outputId": "04ebdbde-8d76-4227-dfed-6a86103f9bf2"
      },
      "source": [
        "#!/bin/usr/python3\n",
        "\n",
        "import redis\n",
        "from t_log import logger\n",
        "\n",
        "res = redis.Redis(host='47.99.94.49', port=6379, db=0)\n",
        "res.set(\"name\",\"Tinywan\")\n",
        "print(res.get('name'))\n",
        "\n",
        "\n",
        "log = logger.logger()\n",
        "\n",
        "log.critical(\"这是一个 critical 级别的问题！\")\n",
        "log.error(\"这是一个 error 级别的问题！\")\n",
        "log.warning(\"这是一个 warning 级别的问题！\")\n",
        "log.info(\"这是一个 info 级别的问题！\")"
      ],
      "execution_count": 5,
      "outputs": [
        {
          "output_type": "stream",
          "text": [
            "[2019-06-05 08:20:08,856]-[CRITICAL] [ipykernel_launcher:66] [logger:critical] - 这是一个 critical 级别的问题！\n",
            "[2019-06-05 08:20:08,857]-[ERROR] [ipykernel_launcher:72] [logger:error] - 这是一个 error 级别的问题！\n",
            "[2019-06-05 08:20:08,859]-[WARNING] [ipykernel_launcher:69] [logger:warning] - 这是一个 warning 级别的问题！\n",
            "[2019-06-05 08:20:08,860]-[INFO] [ipykernel_launcher:75] [logger:info] - 这是一个 info 级别的问题！\n"
          ],
          "name": "stderr"
        },
        {
          "output_type": "stream",
          "text": [
            "b'Tinywan'\n"
          ],
          "name": "stdout"
        }
      ]
    },
    {
      "cell_type": "code",
      "metadata": {
        "id": "BbS81oPUuXK9",
        "colab_type": "code",
        "colab": {}
      },
      "source": [
        ""
      ],
      "execution_count": 0,
      "outputs": []
    },
    {
      "cell_type": "markdown",
      "metadata": {
        "id": "Jei_F7o0sBZ-",
        "colab_type": "text"
      },
      "source": [
        "这是Redis案例"
      ]
    },
    {
      "cell_type": "markdown",
      "metadata": {
        "id": "WdvJqvm-uedJ",
        "colab_type": "text"
      },
      "source": [
        "# 完整结束了\n"
      ]
    }
  ]
}